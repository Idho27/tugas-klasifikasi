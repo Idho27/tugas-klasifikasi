{
 "cells": [
  {
   "cell_type": "code",
   "execution_count": 18,
   "metadata": {},
   "outputs": [
    {
     "name": "stdout",
     "output_type": "stream",
     "text": [
      "[nltk_data] Downloading package stopwords to C:\\Users\\Laptop\n",
      "[nltk_data]     Ku\\AppData\\Roaming\\nltk_data...\n",
      "[nltk_data]   Package stopwords is already up-to-date!\n"
     ]
    },
    {
     "data": {
      "text/plain": [
       "True"
      ]
     },
     "execution_count": 18,
     "metadata": {},
     "output_type": "execute_result"
    }
   ],
   "source": [
    "import nltk\n",
    "from nltk.tokenize import sent_tokenize\n",
    "from nltk.tokenize import word_tokenize\n",
    "from nltk.stem.porter import PorterStemmer\n",
    "from nltk.stem import WordNetLemmatizer\n",
    "from nltk.corpus import stopwords\n",
    "import re\n",
    "import glob\n",
    "import errno\n",
    "import pandas\n",
    "from sklearn import naive_bayes, metrics, preprocessing\n",
    "from sklearn.feature_extraction.text import CountVectorizer\n",
    "nltk.download('stopwords')"
   ]
  },
  {
   "cell_type": "code",
   "execution_count": 19,
   "metadata": {},
   "outputs": [],
   "source": [
    "def word_token(text):\n",
    "    tokens = word_tokenize(text)\n",
    "\n",
    "    return tokens"
   ]
  },
  {
   "cell_type": "code",
   "execution_count": 20,
   "metadata": {},
   "outputs": [],
   "source": [
    "def casefolding(text):\n",
    "    text = text.lower()\n",
    "    return text"
   ]
  },
  {
   "cell_type": "code",
   "execution_count": 21,
   "metadata": {},
   "outputs": [],
   "source": [
    "def stemming (tokens):\n",
    "    porter_stemmer = PorterStemmer()\n",
    "    result = list()\n",
    "    for word in tokens:\n",
    "        result.append(porter_stemmer.stem(word))\n",
    "        \n",
    "    return ' '.join(result)\n",
    "    return text"
   ]
  },
  {
   "cell_type": "code",
   "execution_count": 22,
   "metadata": {},
   "outputs": [],
   "source": [
    "def stopword (tokens):\n",
    "    stop_words = set(stopwords.words('english'))\n",
    "    clean_text = []\n",
    "    for word in tokens:\n",
    "        if word not in stop_words:\n",
    "            clean_text.append(word)\n",
    "    return clean_text"
   ]
  },
  {
   "cell_type": "code",
   "execution_count": 23,
   "metadata": {},
   "outputs": [],
   "source": [
    "def noise_rem (text):\n",
    "    text = re.sub('[^\\w\\s]','', text)\n",
    "    return text"
   ]
  },
  {
   "cell_type": "code",
   "execution_count": 24,
   "metadata": {},
   "outputs": [],
   "source": [
    "def masukdata (path,cl):\n",
    "    files = glob.glob(path)\n",
    "    labels, texts = [], []\n",
    "    for review in files:\n",
    "        f = open(review,'r')\n",
    "        baca = f.read()\n",
    "        f.close()\n",
    "        \n",
    "        baca = casefolding(baca)\n",
    "        baca = noise_rem(baca)\n",
    "        tok = word_token(baca)\n",
    "        tok = stopword(tok)\n",
    "        tok = stemming(tok)\n",
    "        baca = ''.join(tok)\n",
    "        \n",
    "        labels.append(cl)\n",
    "        texts.append(baca)\n",
    "    trainDF = pandas.DataFrame()\n",
    "    trainDF['text'] = texts\n",
    "    trainDF['label'] = labels\n",
    "    \n",
    "    return trainDF"
   ]
  },
  {
   "cell_type": "code",
   "execution_count": 25,
   "metadata": {},
   "outputs": [],
   "source": [
    "def kumpuldata(seg):\n",
    "    trainData = pandas.DataFrame()\n",
    "    trainData = masukdata('./'+seg+'/neg/*.txt','neg')\n",
    "    trainData = trainData.append(masukdata('./'+seg+'/pos/*.txt','pos'), ignore_index=True)\n",
    "    trainData.reset_index()\n",
    "    return trainData"
   ]
  },
  {
   "cell_type": "code",
   "execution_count": 44,
   "metadata": {},
   "outputs": [],
   "source": [
    "def train_model(classifier, feature_vector_train, label, feature_vector_valid, valid_y, is_neural_net=False):\n",
    "    # fit the training dataset on the classifier\n",
    "    classifier.fit(feature_vector_train, label)\n",
    "    \n",
    "    # predict the labels on validation dataset\n",
    "    predictions = classifier.predict(feature_vector_valid)\n",
    "    \n",
    "    if is_neural_net:\n",
    "        predictions = predictions.argmax(axis=-1)\n",
    "    \n",
    "    return metrics.accuracy_score(predictions, valid_y)"
   ]
  },
  {
   "cell_type": "code",
   "execution_count": 46,
   "metadata": {},
   "outputs": [
    {
     "name": "stdout",
     "output_type": "stream",
     "text": [
      "NB, Count Vectors:  0.73\n"
     ]
    }
   ],
   "source": [
    "def mainKlas():\n",
    "    sets = kumpuldata('train')\n",
    "    train_x = sets['text']\n",
    "    train_y = sets['label']\n",
    "    sets = kumpuldata('test')\n",
    "    valid_x = sets['text']\n",
    "    valid_y = sets['label']\n",
    "    \n",
    "    encoder = preprocessing.LabelEncoder()\n",
    "    train_y = encoder.fit_transform(train_y)\n",
    "    valid_y = encoder.fit_transform(valid_y)\n",
    "    \n",
    "    count_vect = CountVectorizer(analyzer='word', token_pattern=r'\\w{1,}')\n",
    "    count_vect.fit(sets['text'])\n",
    "    train_xc =  count_vect.transform(train_x)\n",
    "    valid_xc =  count_vect.transform(valid_x)\n",
    "    \n",
    "    accuracy = train_model(naive_bayes.MultinomialNB(), train_xc, train_y, valid_xc, valid_y)\n",
    "    print (\"NB, Count Vectors: \", accuracy)\n",
    "    #naive_bayes.MultinomialNB().fit(train_xc, train_y)\n",
    "    #print(train_xc)\n",
    "    #print(valid_xc)\n",
    "    #predictions = naive_bayes.MultinomialNB().predict(valid_xc)\n",
    "    \n",
    "    #acc = metrics.accuracy_score(predictions, valid_y)\n",
    "    #print (acc)\n",
    "        \n",
    "if __name__ == \"__main__\":\n",
    "    mainKlas()"
   ]
  }
 ],
 "metadata": {
  "kernelspec": {
   "display_name": "Python 3",
   "language": "python",
   "name": "python3"
  },
  "language_info": {
   "codemirror_mode": {
    "name": "ipython",
    "version": 3
   },
   "file_extension": ".py",
   "mimetype": "text/x-python",
   "name": "python",
   "nbconvert_exporter": "python",
   "pygments_lexer": "ipython3",
   "version": "3.6.5"
  }
 },
 "nbformat": 4,
 "nbformat_minor": 2
}
